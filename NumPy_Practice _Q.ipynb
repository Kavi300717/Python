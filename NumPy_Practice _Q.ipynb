{
 "cells": [
  {
   "cell_type": "code",
   "execution_count": 2,
   "id": "fa601faf-8865-49b8-90a1-d2d79471d031",
   "metadata": {},
   "outputs": [
    {
     "name": "stdout",
     "output_type": "stream",
     "text": [
      "[0 1 2 3 4 5 6 7 8 9]\n"
     ]
    }
   ],
   "source": [
    "import numpy as np\n",
    "\n",
    "data = np.arange(10)\n",
    "print(data)\n"
   ]
  },
  {
   "cell_type": "code",
   "execution_count": null,
   "id": "d59d1320-6e76-4984-b274-87a40dbbd13a",
   "metadata": {},
   "outputs": [],
   "source": [
    "# Creating a boolean Data type array\n",
    "\n",
    "arr = np.full((2,3), True, dtype=bool)\n",
    "print(arr)"
   ]
  },
  {
   "cell_type": "code",
   "execution_count": null,
   "id": "f8e5a47e-3483-4498-946a-713e1a5640da",
   "metadata": {},
   "outputs": [],
   "source": [
    "# How to extract items that satisfy a given condition from 1D array?\n",
    "\n",
    "arr = np.arange(10)\n",
    "print(arr)\n",
    "data = arr[arr % 2 == 1]\n",
    "print(data)"
   ]
  },
  {
   "cell_type": "code",
   "execution_count": null,
   "id": "6bba8562-1de8-4c41-98e5-f77b7a38c009",
   "metadata": {},
   "outputs": [],
   "source": [
    "# How to replace items that satisfy a condition with another value in numpy array? \n",
    "\n",
    "arr = np.arange(10)\n",
    "print(arr)\n",
    "arr[arr%2 == 1] = -1\n",
    "arr"
   ]
  },
  {
   "cell_type": "code",
   "execution_count": 16,
   "id": "3427bb8f-07cd-4931-987f-1aa2587fcf3d",
   "metadata": {},
   "outputs": [
    {
     "data": {
      "text/plain": [
       "array([ 0, -1,  2, -1,  4, -1,  6, -1,  8, -1])"
      ]
     },
     "execution_count": 16,
     "metadata": {},
     "output_type": "execute_result"
    }
   ],
   "source": [
    "#How to replace items that satisfy a condition without affecting the original array?\n",
    "\n",
    "arr = np.arange(10)\n",
    "arr\n",
    "\n",
    "data = arr.copy()\n",
    "data[data%2 == 1] = -1\n",
    "data"
   ]
  }
 ],
 "metadata": {
  "kernelspec": {
   "display_name": "Python 3 (ipykernel)",
   "language": "python",
   "name": "python3"
  },
  "language_info": {
   "codemirror_mode": {
    "name": "ipython",
    "version": 3
   },
   "file_extension": ".py",
   "mimetype": "text/x-python",
   "name": "python",
   "nbconvert_exporter": "python",
   "pygments_lexer": "ipython3",
   "version": "3.12.7"
  }
 },
 "nbformat": 4,
 "nbformat_minor": 5
}
